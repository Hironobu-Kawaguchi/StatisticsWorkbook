{
  "nbformat": 4,
  "nbformat_minor": 0,
  "metadata": {
    "colab": {
      "name": "statwb01.ipynb",
      "provenance": [],
      "collapsed_sections": [],
      "toc_visible": true,
      "authorship_tag": "ABX9TyO6Q9Q7Vp8Mm7je9nO17eXQ",
      "include_colab_link": true
    },
    "kernelspec": {
      "name": "python3",
      "display_name": "Python 3"
    }
  },
  "cells": [
    {
      "cell_type": "markdown",
      "metadata": {
        "id": "view-in-github",
        "colab_type": "text"
      },
      "source": [
        "<a href=\"https://colab.research.google.com/github/Hironobu-Kawaguchi/StatisticsWorkbook/blob/main/statwb01.ipynb\" target=\"_parent\"><img src=\"https://colab.research.google.com/assets/colab-badge.svg\" alt=\"Open In Colab\"/></a>"
      ]
    },
    {
      "cell_type": "markdown",
      "metadata": {
        "id": "W3cf-J-Fg8cl"
      },
      "source": [
        "統計検定準1級対応　統計学実践ワークブック\r\n",
        "# 1. 事象と確率"
      ]
    },
    {
      "cell_type": "markdown",
      "metadata": {
        "id": "0eRy9QiThFLF"
      },
      "source": [
        "## 事象と確率\r\n",
        "- 事象(event) $A$\r\n",
        "- 確率(probability) $P(A)$ または $Pr(A)$\r\n",
        "- 余事象(complementary event) $A^c$\r\n",
        "- 積事象(intersection of events) $A \\cap B$\r\n",
        "- 和事象(union of events) $A \\cup B$\r\n",
        "- 空集合 $\\emptyset$\r\n",
        "- 全集合 $\\Omega$\r\n",
        "- ベン図(Venn diagram)\r\n",
        "- 包除原理(inclusion-exclusion principle) \\\\\r\n",
        "$$ P(A \\cup B) = P(A) + P(B) - (A \\cap B) $$"
      ]
    },
    {
      "cell_type": "markdown",
      "metadata": {
        "id": "OhzKLA45iKmz"
      },
      "source": [
        "### 例1\r\n",
        "ある50名のクラスで、前日にテレビ番組Aをみた生徒は20名、番組Bをみた生徒は15名であった。また両方をみた生徒は5名であった。どちらの番組もみなかった生徒は何名か。"
      ]
    },
    {
      "cell_type": "markdown",
      "metadata": {
        "id": "n7w8oAnRj_JM"
      },
      "source": [
        "### 答\r\n",
        "\\begin{eqnarray}\r\n",
        "  \\Omega - P(A \\cup B) &=& \\Omega - \\{ P(A) + P(B) - (A \\cap B) \\} \\nonumber \\\\\r\n",
        "    &=& 50 - (20 + 15 - 5) \\nonumber\r\n",
        "\\end{eqnarray}"
      ]
    },
    {
      "cell_type": "markdown",
      "metadata": {
        "id": "c1B2gy39mYuN"
      },
      "source": [
        "## 条件付確率とベイズの定理\r\n",
        "- 条件付き確率(conditional probability) \\\\\r\n",
        "$$ P(B \\mid A) = \\cfrac{ P(A \\cap B) }{ P(A) }$$\r\n",
        "- 独立(independent) \\\\\r\n",
        "$$ P(A \\cap B) = P(A) \\times P(B) $$\r\n",
        "- ベイズの定理(Bayes' theorem)\r\n",
        "\\begin{eqnarray}\r\n",
        "    P(A \\mid B) = \\cfrac{ P(B \\mid A) P(A) }{ P(B) } = \\cfrac{ P(B \\mid A) P(A) }{ P(B \\mid A) P(A) + P(B \\mid A^c) P(A^c) } \\tag{1.1}\r\n",
        "\\end{eqnarray}\r\n",
        "- 事前確率(prior probability) $P(A)$\r\n",
        "- 事後確率(posterior probability) $P(A \\mid B)$\r\n",
        "- 全事象 $\\Omega$ が排反(disjoint)な事象 $A_1, \\cdots , A_k$ の和である場合 \\\\\r\n",
        "$$ \\Omega = A_1 \\cup \\cdots \\cup A_k, \\ \\ \\ \\ A_i \\cap A_j = \\emptyset \\ \\  (i \\neq j) $$\r\n",
        "に次の形で拡張される。\r\n",
        "\\begin{eqnarray}\r\n",
        "    P(A_i \\mid B) = \\cfrac{ P(B \\mid A_i) P(A_i) }{ \\sum_{j=1}^{k}P(B \\mid A_j) P(A_j) } \\nonumber\r\n",
        "\\end{eqnarray}\r\n",
        "- 条件付き独立(conditionally independent)\r\n",
        "$$ P(A \\cap B \\mid C) = P(A \\mid C) P(B \\mid C) $$"
      ]
    },
    {
      "cell_type": "code",
      "metadata": {
        "id": "P1xqCUWYovWy"
      },
      "source": [
        ""
      ],
      "execution_count": null,
      "outputs": []
    }
  ]
}