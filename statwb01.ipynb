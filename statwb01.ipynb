{
  "nbformat": 4,
  "nbformat_minor": 0,
  "metadata": {
    "colab": {
      "name": "statwb01.ipynb",
      "provenance": [],
      "collapsed_sections": [],
      "toc_visible": true,
      "authorship_tag": "ABX9TyM79MyVNrGJOU7Et8X+Kw7d",
      "include_colab_link": true
    },
    "kernelspec": {
      "name": "python3",
      "display_name": "Python 3"
    }
  },
  "cells": [
    {
      "cell_type": "markdown",
      "metadata": {
        "id": "view-in-github",
        "colab_type": "text"
      },
      "source": [
        "<a href=\"https://colab.research.google.com/github/Hironobu-Kawaguchi/StatisticsWorkbook/blob/main/statwb01.ipynb\" target=\"_parent\"><img src=\"https://colab.research.google.com/assets/colab-badge.svg\" alt=\"Open In Colab\"/></a>"
      ]
    },
    {
      "cell_type": "markdown",
      "metadata": {
        "id": "W3cf-J-Fg8cl"
      },
      "source": [
        "統計検定準1級対応　統計学実践ワークブック\r\n",
        "# 1. 事象と確率"
      ]
    },
    {
      "cell_type": "markdown",
      "metadata": {
        "id": "0eRy9QiThFLF"
      },
      "source": [
        "## 事象と確率\r\n",
        "- 事象(event) $A$\r\n",
        "- 確率(probability) $P(A)$ または $Pr(A)$\r\n",
        "- 余事象(complementary event) $A^C$\r\n",
        "- 積事象(intersection of events) $A \\cap B$\r\n",
        "- 和事象(union of events) $A \\cup B$\r\n",
        "- 空集合 $\\emptyset$\r\n",
        "- 全集合 $\\Omega$\r\n",
        "- ベン図(Venn diagram)\r\n",
        "- 包除原理(inclusion-exclusion principle) \\\\\r\n",
        "$P(A \\cup B) = P(A) + P(B) - (A \\cap B)$\r\n"
      ]
    },
    {
      "cell_type": "markdown",
      "metadata": {
        "id": "OhzKLA45iKmz"
      },
      "source": [
        "### 例1\r\n",
        "ある50名のクラスで、前日にテレビ番組Aをみた生徒は20名、番組Bをみた生徒は15名であった。また両方をみた生徒は5名であった。どちらの番組もみなかった生徒は何名か。"
      ]
    },
    {
      "cell_type": "markdown",
      "metadata": {
        "id": "n7w8oAnRj_JM"
      },
      "source": [
        "### 答\r\n",
        "\\begin{eqnarray}\r\n",
        "  \\Omega - P(A \\cup B) &=& \\Omega - \\{ P(A) + P(B) - (A \\cap B) \\} \\\\\r\n",
        "    &=& 50 - (20 + 15 - 5)\r\n",
        "\\end{eqnarray}"
      ]
    },
    {
      "cell_type": "code",
      "metadata": {
        "id": "c1B2gy39mYuN"
      },
      "source": [
        ""
      ],
      "execution_count": null,
      "outputs": []
    }
  ]
}