{
  "nbformat": 4,
  "nbformat_minor": 0,
  "metadata": {
    "colab": {
      "name": "statwb06.ipynb",
      "provenance": [],
      "collapsed_sections": [],
      "toc_visible": true,
      "authorship_tag": "ABX9TyPcrI2/OnImyzTxZW2GqhuN",
      "include_colab_link": true
    },
    "kernelspec": {
      "name": "python3",
      "display_name": "Python 3"
    }
  },
  "cells": [
    {
      "cell_type": "markdown",
      "metadata": {
        "id": "view-in-github",
        "colab_type": "text"
      },
      "source": [
        "<a href=\"https://colab.research.google.com/github/Hironobu-Kawaguchi/StatisticsWorkbook/blob/main/statwb06.ipynb\" target=\"_parent\"><img src=\"https://colab.research.google.com/assets/colab-badge.svg\" alt=\"Open In Colab\"/></a>"
      ]
    },
    {
      "cell_type": "markdown",
      "metadata": {
        "id": "W3cf-J-Fg8cl"
      },
      "source": [
        "統計検定準1級対応　統計学実践ワークブック\r\n",
        "# 第6章　連続型分布と標本分布"
      ]
    },
    {
      "cell_type": "markdown",
      "metadata": {
        "id": "0eRy9QiThFLF"
      },
      "source": [
        "## 連続一様分布"
      ]
    },
    {
      "cell_type": "markdown",
      "metadata": {
        "id": "c1B2gy39mYuN"
      },
      "source": [
        "## 正規分布"
      ]
    },
    {
      "cell_type": "markdown",
      "metadata": {
        "id": "v1pITla51Mx5"
      },
      "source": [
        "## 指数分布"
      ]
    },
    {
      "cell_type": "markdown",
      "metadata": {
        "id": "-O5gC22x5R2A"
      },
      "source": [
        "## ガンマ分布"
      ]
    },
    {
      "cell_type": "markdown",
      "metadata": {
        "id": "SyeDIQBe5Ttu"
      },
      "source": [
        "## ベータ分布"
      ]
    },
    {
      "cell_type": "markdown",
      "metadata": {
        "id": "46uP2BuN5Xsv"
      },
      "source": [
        "## コーシー分布"
      ]
    },
    {
      "cell_type": "markdown",
      "metadata": {
        "id": "sQSkTYUL5ZjE"
      },
      "source": [
        "## 対数正規分布"
      ]
    },
    {
      "cell_type": "markdown",
      "metadata": {
        "id": "4QZQKaO95cRm"
      },
      "source": [
        "## 2変量正規分布、多変量正規分布"
      ]
    },
    {
      "cell_type": "markdown",
      "metadata": {
        "id": "ZlXXXncFsDvc"
      },
      "source": [
        "## 混合正規分布"
      ]
    },
    {
      "cell_type": "markdown",
      "metadata": {
        "id": "wX4NdeN5sF80"
      },
      "source": [
        "## カイ二乗分布（非心分布を含む）"
      ]
    },
    {
      "cell_type": "markdown",
      "metadata": {
        "id": "LA-Y1D40sP5k"
      },
      "source": [
        "## $t$分布（非心分布を含む）"
      ]
    },
    {
      "cell_type": "markdown",
      "metadata": {
        "id": "MFe9ydh-sYk7"
      },
      "source": [
        "## $F$分布（非心分布を含む）"
      ]
    },
    {
      "cell_type": "markdown",
      "metadata": {
        "id": "P1xqCUWYovWy"
      },
      "source": [
        "## 例題"
      ]
    },
    {
      "cell_type": "markdown",
      "metadata": {
        "id": "q1ZjQv76xnME"
      },
      "source": [
        "### 問6.1\r\n",
        "あるテストの受験者は全部で1000人であり、受験者全体でのテストの得点の分布は正規分布 $N(65,10^2)$ で近似できるとする。このテストで$A$君は85点、$B$君は60点であった。なお、標準正規分布 $N(0,1)$ の確率密度関数は $f(z) = \\frac{1}{\\sqrt{2 \\pi}} \\exp (-z^2 / 2)$ である。  \r\n",
        "(1) $A$君および$B$君の偏差値はいくらか。  \r\n",
        "(2) $A$君の得点と$B$君の得点の間に入る受験者の人数はおおよそ何人か。  \r\n",
        "(3) このテストの全受験者の得点の箱ひげ図を描いた場合、四分位範囲（箱の長さ）はいくらか。  \r\n",
        "(4) このテストで65点以上の受験者のみを集めた場合、彼・彼女らの得点の平均値はおおよそいくらか。"
      ]
    },
    {
      "cell_type": "markdown",
      "metadata": {
        "id": "ZW4YeZUFx9Du"
      },
      "source": [
        "### 答6.1\r\n",
        "(1)  \r\n",
        "(2)  \r\n",
        "(3)  \r\n",
        "(4)  "
      ]
    },
    {
      "cell_type": "code",
      "metadata": {
        "id": "19G0lf9pyzw8",
        "colab": {
          "base_uri": "https://localhost:8080/",
          "height": 551
        },
        "outputId": "0c4a0344-34d4-4fc5-d83a-efefec9966f7"
      },
      "source": [
        "import numpy as np\r\n",
        "import matplotlib.pyplot as plt\r\n",
        "N = 1000\r\n",
        "# N = 10000000\r\n",
        "AVERAGE = 65\r\n",
        "STD = 10\r\n",
        "A = 85\r\n",
        "B = 60\r\n",
        "x = np.random.randn(N) * STD + AVERAGE\r\n",
        "print(x.mean(), x.std())\r\n",
        "plt.hist(x, bins=101)\r\n",
        "plt.xlim(0,100)\r\n",
        "plt.show()\r\n",
        "print(\"(1)\", \"A:\", (A-AVERAGE)/STD*10+50, \"B:\", (B-AVERAGE)/STD*10+50)\r\n",
        "\r\n",
        "plt.boxplot(x)\r\n",
        "plt.ylim(0,100)\r\n",
        "plt.show()"
      ],
      "execution_count": 29,
      "outputs": [
        {
          "output_type": "stream",
          "text": [
            "64.6175345688016 9.933484408503967\n"
          ],
          "name": "stdout"
        },
        {
          "output_type": "display_data",
          "data": {
            "image/png": "[encoded data removed]",
            "text/plain": [
              "<Figure size 432x288 with 1 Axes>"
            ]
          },
          "metadata": {
            "tags": [],
            "needs_background": "light"
          }
        },
        {
          "output_type": "stream",
          "text": [
            "(1) A: 70.0 B: 45.0\n"
          ],
          "name": "stdout"
        },
        {
          "output_type": "display_data",
          "data": {
            "image/png": "[encoded data removed]",
            "text/plain": [
              "<Figure size 432x288 with 1 Axes>"
            ]
          },
          "metadata": {
            "tags": [],
            "needs_background": "light"
          }
        }
      ]
    },
    {
      "cell_type": "code",
      "metadata": {
        "id": "h0-giyUMunBd"
      },
      "source": [
        ""
      ],
      "execution_count": null,
      "outputs": []
    }
  ]
}