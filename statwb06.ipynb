{
  "nbformat": 4,
  "nbformat_minor": 0,
  "metadata": {
    "colab": {
      "name": "statwb06.ipynb",
      "provenance": [],
      "collapsed_sections": [],
      "toc_visible": true,
      "authorship_tag": "ABX9TyPHDNGKxtWfmtB2tgGS7b8s",
      "include_colab_link": true
    },
    "kernelspec": {
      "name": "python3",
      "display_name": "Python 3"
    }
  },
  "cells": [
    {
      "cell_type": "markdown",
      "metadata": {
        "id": "view-in-github",
        "colab_type": "text"
      },
      "source": [
        "<a href=\"https://colab.research.google.com/github/Hironobu-Kawaguchi/StatisticsWorkbook/blob/main/statwb06.ipynb\" target=\"_parent\"><img src=\"https://colab.research.google.com/assets/colab-badge.svg\" alt=\"Open In Colab\"/></a>"
      ]
    },
    {
      "cell_type": "markdown",
      "metadata": {
        "id": "W3cf-J-Fg8cl"
      },
      "source": [
        "統計検定準1級対応　統計学実践ワークブック\r\n",
        "# 第6章　連続型分布と標本分布"
      ]
    },
    {
      "cell_type": "markdown",
      "metadata": {
        "id": "0eRy9QiThFLF"
      },
      "source": [
        "## 連続一様分布"
      ]
    },
    {
      "cell_type": "markdown",
      "metadata": {
        "id": "c1B2gy39mYuN"
      },
      "source": [
        "## 正規分布"
      ]
    },
    {
      "cell_type": "markdown",
      "metadata": {
        "id": "v1pITla51Mx5"
      },
      "source": [
        "## 指数分布"
      ]
    },
    {
      "cell_type": "markdown",
      "metadata": {
        "id": "-O5gC22x5R2A"
      },
      "source": [
        "## ガンマ分布"
      ]
    },
    {
      "cell_type": "markdown",
      "metadata": {
        "id": "SyeDIQBe5Ttu"
      },
      "source": [
        "## ベータ分布"
      ]
    },
    {
      "cell_type": "markdown",
      "metadata": {
        "id": "46uP2BuN5Xsv"
      },
      "source": [
        "## コーシー分布"
      ]
    },
    {
      "cell_type": "markdown",
      "metadata": {
        "id": "sQSkTYUL5ZjE"
      },
      "source": [
        "## 対数正規分布"
      ]
    },
    {
      "cell_type": "markdown",
      "metadata": {
        "id": "4QZQKaO95cRm"
      },
      "source": [
        "## 2変量正規分布、多変量正規分布"
      ]
    },
    {
      "cell_type": "markdown",
      "metadata": {
        "id": "ZlXXXncFsDvc"
      },
      "source": [
        "## 混合正規分布"
      ]
    },
    {
      "cell_type": "markdown",
      "metadata": {
        "id": "wX4NdeN5sF80"
      },
      "source": [
        "## カイ二乗分布（非心分布を含む）"
      ]
    },
    {
      "cell_type": "markdown",
      "metadata": {
        "id": "LA-Y1D40sP5k"
      },
      "source": [
        "## $t$分布（非心分布を含む）"
      ]
    },
    {
      "cell_type": "markdown",
      "metadata": {
        "id": "MFe9ydh-sYk7"
      },
      "source": [
        "## $F$分布（非心分布を含む）"
      ]
    },
    {
      "cell_type": "markdown",
      "metadata": {
        "id": "P1xqCUWYovWy"
      },
      "source": [
        "## 例題"
      ]
    },
    {
      "cell_type": "markdown",
      "metadata": {
        "id": "q1ZjQv76xnME"
      },
      "source": [
        "### 問6.1\r\n",
        "あるテストの受験者は全部で1000人であり、受験者全体でのテストの得点の分布は正規分布 $N(65,10^2)$ で近似できるとする。このテストで$A$君は85点、$B$君は60点であった。なお、標準正規分布 $N(0,1)$ の確率密度関数は $f(z) = \\frac{1}{\\sqrt{2 \\pi}} \\exp (-z^2 / 2)$ である。  \r\n",
        "(1) $A$君および$B$君の偏差値はいくらか。  \r\n",
        "(2) $A$君の得点と$B$君の得点の間に入る受験者の人数はおおよそ何人か。  \r\n",
        "(3) このテストの全受験者の得点の箱ひげ図を描いた場合、四分位範囲（箱の長さ）はいくらか。  \r\n",
        "(4) このテストで65点以上の受験者のみを集めた場合、彼・彼女らの得点の平均値はおおよそいくらか。"
      ]
    },
    {
      "cell_type": "markdown",
      "metadata": {
        "id": "ZW4YeZUFx9Du"
      },
      "source": [
        "### 答6.1\r\n",
        "(1)  \r\n",
        "$A$君　$(85-65) \\div 10 \\times 10 + 50 = 2 \\times 10 + 50 = 70$  \r\n",
        "$B$君　$(60-65) \\div 10 \\times 10 + 50 = -0.5 \\times 10 + 50 = 45$  \r\n",
        "(2) $X \\sim N(65, 10^2)$ とすると、\r\n",
        "$$ 1000 \\times (P(X<85) - P(X<65)) = 1000 \\times (0.9772 - 0.3085) = 1000 \\times 0.6687 = 668.7 $$\r\n",
        "したがって、おおよそ $669$人である。  \r\n",
        "(3) $N(65, 10^2)$ の 下側25%点を $x_{0.25}$とすると、  \r\n",
        "$$\r\n",
        "    P(X \\ge x_{0.25}) = 0.25 \\\\\r\n",
        "    x_{0.25} = 65 - 0.675 \\times 10 \\\\\r\n",
        "    x_{0.75} = 65 + 0.675 \\times 10 \\\\\r\n",
        "$$\r\n",
        "したがって四分位範囲は、\r\n",
        " $$ x_{0.75} - x_{0.25} = 2 \\times (0.675 \\times 10) = 13.5 $$  \r\n",
        "(4) $X \\sim N(65, 10^2)$ と $Z = (X - 65)/10 \\sim N(0,1)$ に対して、$E[X \\mid X \\ge 65] = E[65 + 10Z \\mid Z \\ge 0] = 65 + 10E[Z \\mid Z \\ge 0]$ となる。ここで、$Z \\ge 0$のもとでの$Z$の条件付き分布のの確率密度関数 $f(z \\mid z \\ge 0)$ は、\r\n",
        "$$\r\n",
        "  f(z \\mid z \\ge 0) = \\begin{cases}\r\n",
        "    \\cfrac{\\varphi (z)}{P(Z \\ge 0)} = 2 \\varphi (z) = \\sqrt{\\cfrac{2}{\\pi}} e^{- \\frac{z^2}{2}} & (z \\ge 0) \\\\\r\n",
        "    0 & (z < 0)\r\n",
        "  \\end{cases}\r\n",
        "$$\r\n",
        "となる。これより、\r\n",
        "$$\r\n",
        "    E[Z \\mid Z \\ge 0] = \\int_0^{\\infty} z \\sqrt{\\cfrac{2}{\\pi}} e^{- \\frac{z^2}{2}} dz = \\sqrt{\\cfrac{2}{\\pi}} \\left[ - e^{\\frac{z^2}{2}} \\right] _0^{\\infty} = \\sqrt{\\cfrac{2}{\\pi}} = 0.798\r\n",
        "$$\r\n",
        "となるので、$65$点以上の受験者のみを集めた場合の得点の平均値は、$E[X \\mid X \\ge 65] = 65 + 10E[Z \\mid Z \\ge 0] = 65 + 10 \\times 0.798 = 72.98$ より、おおよそ$73$点となる。"
      ]
    },
    {
      "cell_type": "code",
      "metadata": {
        "id": "19G0lf9pyzw8",
        "colab": {
          "base_uri": "https://localhost:8080/",
          "height": 299
        },
        "outputId": "443bd7a2-6d41-42e6-cd33-e56946370c64"
      },
      "source": [
        "import numpy as np\r\n",
        "import matplotlib.pyplot as plt\r\n",
        "N = 1000\r\n",
        "# N = 10000000\r\n",
        "AVERAGE = 65\r\n",
        "STD = 10\r\n",
        "A = 85\r\n",
        "B = 60\r\n",
        "x = np.random.normal(AVERAGE, STD, N)\r\n",
        "print(x.mean(), x.std())\r\n",
        "plt.hist(x, bins=101)\r\n",
        "plt.xlim(0,100)\r\n",
        "plt.show()\r\n",
        "print(\"(1)\", \"A:\", (A-AVERAGE)/STD*10+50, \"B:\", (B-AVERAGE)/STD*10+50)"
      ],
      "execution_count": 7,
      "outputs": [
        {
          "output_type": "stream",
          "text": [
            "65.56900982964318 9.783345592348931\n"
          ],
          "name": "stdout"
        },
        {
          "output_type": "display_data",
          "data": {
            "image/png": "[encoded data removed]",
            "text/plain": [
              "<Figure size 432x288 with 1 Axes>"
            ]
          },
          "metadata": {
            "tags": [],
            "needs_background": "light"
          }
        },
        {
          "output_type": "stream",
          "text": [
            "(1) A: 70.0 B: 45.0\n"
          ],
          "name": "stdout"
        }
      ]
    },
    {
      "cell_type": "code",
      "metadata": {
        "colab": {
          "base_uri": "https://localhost:8080/"
        },
        "id": "ij3U773pQZFk",
        "outputId": "79f3703f-420d-4fa1-ef53-061620e49ae9"
      },
      "source": [
        "from scipy.stats import norm\r\n",
        "print(\"(2)\", N * (norm.cdf(x=A, loc=AVERAGE, scale=STD) - norm.cdf(x=B, loc=AVERAGE, scale=STD)))\r\n",
        "print(r\"P(X<85) =\", norm.cdf(x=85, loc=65, scale=10))\r\n",
        "print(r\"P(X<60) =\", norm.cdf(x=60, loc=65, scale=10))"
      ],
      "execution_count": 8,
      "outputs": [
        {
          "output_type": "stream",
          "text": [
            "(2) 668.7123293258339\n",
            "P(X<85) = 0.9772498680518208\n",
            "P(X<60) = 0.3085375387259869\n"
          ],
          "name": "stdout"
        }
      ]
    },
    {
      "cell_type": "code",
      "metadata": {
        "colab": {
          "base_uri": "https://localhost:8080/",
          "height": 320
        },
        "id": "Z11HYWvnQ43a",
        "outputId": "6817f32b-8c3f-476d-97fd-863f52dd756a"
      },
      "source": [
        "print(\"(3)\", norm.ppf(q=0.75, loc=AVERAGE, scale=STD) - norm.ppf(q=0.25, loc=AVERAGE, scale=STD))\r\n",
        "print(\"x_0.75 =\", norm.ppf(q=0.75, loc=65, scale=10))\r\n",
        "print(\"x_0.25 =\", norm.ppf(q=0.25, loc=65, scale=10))\r\n",
        "plt.boxplot(x)\r\n",
        "plt.ylim(0,100)\r\n",
        "plt.show()"
      ],
      "execution_count": 9,
      "outputs": [
        {
          "output_type": "stream",
          "text": [
            "(3) 13.489795003921635\n",
            "x_0.75 = 71.74489750196082\n",
            "x_0.25 = 58.255102498039186\n"
          ],
          "name": "stdout"
        },
        {
          "output_type": "display_data",
          "data": {
            "image/png": "[encoded data removed]",
            "text/plain": [
              "<Figure size 432x288 with 1 Axes>"
            ]
          },
          "metadata": {
            "tags": [],
            "needs_background": "light"
          }
        }
      ]
    },
    {
      "cell_type": "code",
      "metadata": {
        "colab": {
          "base_uri": "https://localhost:8080/",
          "height": 299
        },
        "id": "dxhnnMcjQ62b",
        "outputId": "35a6eb7b-32fa-44dc-9254-927b0d947592"
      },
      "source": [
        "x2 = x[x >= AVERAGE]\r\n",
        "print(\"(4)\", x2.mean())\r\n",
        "print(x2.shape, x2.mean(), x2.std())\r\n",
        "plt.hist(x2, bins=101)\r\n",
        "plt.xlim(0,100)\r\n",
        "plt.show()"
      ],
      "execution_count": 10,
      "outputs": [
        {
          "output_type": "stream",
          "text": [
            "(4) 73.22590428475665\n",
            "(516,) 73.22590428475665 5.977824066708228\n"
          ],
          "name": "stdout"
        },
        {
          "output_type": "display_data",
          "data": {
            "image/png": "[encoded data removed]",
            "text/plain": [
              "<Figure size 432x288 with 1 Axes>"
            ]
          },
          "metadata": {
            "tags": [],
            "needs_background": "light"
          }
        }
      ]
    },
    {
      "cell_type": "code",
      "metadata": {
        "id": "Xw1oJHVxQ7h1"
      },
      "source": [
        ""
      ],
      "execution_count": null,
      "outputs": []
    }
  ]
}