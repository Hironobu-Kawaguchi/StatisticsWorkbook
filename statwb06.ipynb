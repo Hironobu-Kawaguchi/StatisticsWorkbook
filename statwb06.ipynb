{
  "nbformat": 4,
  "nbformat_minor": 0,
  "metadata": {
    "colab": {
      "name": "statwb06.ipynb",
      "provenance": [],
      "collapsed_sections": [],
      "toc_visible": true,
      "authorship_tag": "ABX9TyMD7ejN9dqQAyuRGR7F4YgD",
      "include_colab_link": true
    },
    "kernelspec": {
      "name": "python3",
      "display_name": "Python 3"
    }
  },
  "cells": [
    {
      "cell_type": "markdown",
      "metadata": {
        "id": "view-in-github",
        "colab_type": "text"
      },
      "source": [
        "<a href=\"https://colab.research.google.com/github/Hironobu-Kawaguchi/StatisticsWorkbook/blob/main/statwb06.ipynb\" target=\"_parent\"><img src=\"https://colab.research.google.com/assets/colab-badge.svg\" alt=\"Open In Colab\"/></a>"
      ]
    },
    {
      "cell_type": "markdown",
      "metadata": {
        "id": "W3cf-J-Fg8cl"
      },
      "source": [
        "統計検定準1級対応　統計学実践ワークブック\r\n",
        "# 第6章　連続型分布と標本分布"
      ]
    },
    {
      "cell_type": "markdown",
      "metadata": {
        "id": "0eRy9QiThFLF"
      },
      "source": [
        "## 連続一様分布"
      ]
    },
    {
      "cell_type": "markdown",
      "metadata": {
        "id": "c1B2gy39mYuN"
      },
      "source": [
        "## 正規分布"
      ]
    },
    {
      "cell_type": "markdown",
      "metadata": {
        "id": "v1pITla51Mx5"
      },
      "source": [
        "## 指数分布"
      ]
    },
    {
      "cell_type": "markdown",
      "metadata": {
        "id": "-O5gC22x5R2A"
      },
      "source": [
        "## ガンマ分布"
      ]
    },
    {
      "cell_type": "markdown",
      "metadata": {
        "id": "SyeDIQBe5Ttu"
      },
      "source": [
        "## ベータ分布"
      ]
    },
    {
      "cell_type": "markdown",
      "metadata": {
        "id": "46uP2BuN5Xsv"
      },
      "source": [
        "## コーシー分布"
      ]
    },
    {
      "cell_type": "markdown",
      "metadata": {
        "id": "sQSkTYUL5ZjE"
      },
      "source": [
        "## 対数正規分布"
      ]
    },
    {
      "cell_type": "markdown",
      "metadata": {
        "id": "4QZQKaO95cRm"
      },
      "source": [
        "## 2変量正規分布、多変量正規分布"
      ]
    },
    {
      "cell_type": "markdown",
      "metadata": {
        "id": "ZlXXXncFsDvc"
      },
      "source": [
        "## 混合正規分布"
      ]
    },
    {
      "cell_type": "markdown",
      "metadata": {
        "id": "wX4NdeN5sF80"
      },
      "source": [
        "## カイ二乗分布（非心分布を含む）"
      ]
    },
    {
      "cell_type": "markdown",
      "metadata": {
        "id": "LA-Y1D40sP5k"
      },
      "source": [
        "## $t$分布（非心分布を含む）"
      ]
    },
    {
      "cell_type": "markdown",
      "metadata": {
        "id": "MFe9ydh-sYk7"
      },
      "source": [
        "## $F$分布（非心分布を含む）"
      ]
    },
    {
      "cell_type": "markdown",
      "metadata": {
        "id": "P1xqCUWYovWy"
      },
      "source": [
        "## 例題"
      ]
    },
    {
      "cell_type": "markdown",
      "metadata": {
        "id": "q1ZjQv76xnME"
      },
      "source": [
        "### 問6.1\r\n",
        "あるテストの受験者は全部で1000人であり、受験者全体でのテストの得点の分布は正規分布 $N(65,10^2)$ で近似できるとする。このテストで$A$君は85点、$B$君は60点であった。なお、標準正規分布 $N(0,1)$ の確率密度関数は $f(z) = \\frac{1}{\\sqrt{2 \\pi}} \\exp (-z^2 / 2)$ である。  \r\n",
        "(1) $A$君および$B$君の偏差値はいくらか。  \r\n",
        "(2) $A$君の得点と$B$君の得点の間に入る受験者の人数はおおよそ何人か。  \r\n",
        "(3) このテストの全受験者の得点の箱ひげ図を描いた場合、四分位範囲（箱の長さ）はいくらか。  \r\n",
        "(4) このテストで65点以上の受験者のみを集めた場合、彼・彼女らの得点の平均値はおおよそいくらか。"
      ]
    },
    {
      "cell_type": "markdown",
      "metadata": {
        "id": "ZW4YeZUFx9Du"
      },
      "source": [
        "### 答6.1\r\n",
        "(1)  \r\n",
        "$A$君　$(85-65) \\div 10 \\times 10 + 50 = 2 \\times 10 + 50 = 70$  \r\n",
        "$B$君　$(60-65) \\div 10 \\times 10 + 50 = -0.5 \\times 10 + 50 = 45$  \r\n",
        "(2) $X \\sim N(65, 10^2)$ とすると、\r\n",
        "$$ 1000 \\times (P(X<85) - P(X<65)) = 1000 \\times (0.9772 - 0.3085) = 1000 \\times 0.6687 = 668.7 $$\r\n",
        "したがって、おおよそ $669$人である。  \r\n",
        "(3) $N(65, 10^2)$ の 下側25%点を $x_{0.25}$とすると、  \r\n",
        "$$\r\n",
        "    P(X \\ge x_{0.25}) = 0.25 \\\\\r\n",
        "    x_{0.25} = 65 - 0.675 \\times 10 \\\\\r\n",
        "    x_{0.75} = 65 + 0.675 \\times 10 \\\\\r\n",
        "$$\r\n",
        "したがって四分位範囲は、\r\n",
        " $$ x_{0.75} - x_{0.25} = 2 \\times (0.675 \\times 10) = 13.5 $$  \r\n",
        "(4)  "
      ]
    },
    {
      "cell_type": "code",
      "metadata": {
        "id": "19G0lf9pyzw8",
        "colab": {
          "base_uri": "https://localhost:8080/",
          "height": 704
        },
        "outputId": "98c0c082-7352-4c09-f47c-50b2df16b5b2"
      },
      "source": [
        "import numpy as np\r\n",
        "import matplotlib.pyplot as plt\r\n",
        "N = 1000\r\n",
        "# N = 10000000\r\n",
        "AVERAGE = 65\r\n",
        "STD = 10\r\n",
        "A = 85\r\n",
        "B = 60\r\n",
        "x = np.random.normal(AVERAGE, STD, N)\r\n",
        "print(x.mean(), x.std())\r\n",
        "plt.hist(x, bins=101)\r\n",
        "plt.xlim(0,100)\r\n",
        "plt.show()\r\n",
        "print(\"(1)\", \"A:\", (A-AVERAGE)/STD*10+50, \"B:\", (B-AVERAGE)/STD*10+50)\r\n",
        "print()\r\n",
        "\r\n",
        "from scipy.stats import norm\r\n",
        "print(\"(2)\", N * (norm.cdf(x=A, loc=AVERAGE, scale=STD) - norm.cdf(x=B, loc=AVERAGE, scale=STD)))\r\n",
        "print(r\"P(X<85) =\", norm.cdf(x=85, loc=65, scale=10))\r\n",
        "print(r\"P(X<60) =\", norm.cdf(x=60, loc=65, scale=10))\r\n",
        "print()\r\n",
        "\r\n",
        "print(\"(3)\", norm.ppf(q=0.75, loc=AVERAGE, scale=STD) - norm.ppf(q=0.25, loc=AVERAGE, scale=STD))\r\n",
        "print(\"x_0.75 =\", norm.ppf(q=0.75, loc=65, scale=10))\r\n",
        "print(\"x_0.25 =\", norm.ppf(q=0.25, loc=65, scale=10))\r\n",
        "plt.boxplot(x)\r\n",
        "plt.ylim(0,100)\r\n",
        "plt.show()\r\n",
        "print()\r\n",
        "\r\n"
      ],
      "execution_count": 19,
      "outputs": [
        {
          "output_type": "stream",
          "text": [
            "65.33894533159268 10.307874685744384\n"
          ],
          "name": "stdout"
        },
        {
          "output_type": "display_data",
          "data": {
            "image/png": "[encoded data removed]",
            "text/plain": [
              "<Figure size 432x288 with 1 Axes>"
            ]
          },
          "metadata": {
            "tags": [],
            "needs_background": "light"
          }
        },
        {
          "output_type": "stream",
          "text": [
            "(1) A: 70.0 B: 45.0\n",
            "\n",
            "(2) 668.7123293258339\n",
            "P(X<85) = 0.9772498680518208\n",
            "P(X<60) = 0.3085375387259869\n",
            "\n",
            "(3) 13.489795003921635\n",
            "x_0.75 = 71.74489750196082\n",
            "x_0.25 = 58.255102498039186\n"
          ],
          "name": "stdout"
        },
        {
          "output_type": "display_data",
          "data": {
            "image/png": "[encoded data removed]",
            "text/plain": [
              "<Figure size 432x288 with 1 Axes>"
            ]
          },
          "metadata": {
            "tags": [],
            "needs_background": "light"
          }
        },
        {
          "output_type": "stream",
          "text": [
            "\n"
          ],
          "name": "stdout"
        }
      ]
    },
    {
      "cell_type": "code",
      "metadata": {
        "id": "BWf3MFOD-5Dv"
      },
      "source": [
        ""
      ],
      "execution_count": null,
      "outputs": []
    }
  ]
}