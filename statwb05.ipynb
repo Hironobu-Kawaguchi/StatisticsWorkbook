{
  "nbformat": 4,
  "nbformat_minor": 0,
  "metadata": {
    "colab": {
      "name": "statwb05.ipynb",
      "provenance": [],
      "collapsed_sections": [],
      "toc_visible": true,
      "authorship_tag": "ABX9TyOWcR6vo0zKWG14pfvYAKqe",
      "include_colab_link": true
    },
    "kernelspec": {
      "name": "python3",
      "display_name": "Python 3"
    }
  },
  "cells": [
    {
      "cell_type": "markdown",
      "metadata": {
        "id": "view-in-github",
        "colab_type": "text"
      },
      "source": [
        "<a href=\"https://colab.research.google.com/github/Hironobu-Kawaguchi/StatisticsWorkbook/blob/main/statwb05.ipynb\" target=\"_parent\"><img src=\"https://colab.research.google.com/assets/colab-badge.svg\" alt=\"Open In Colab\"/></a>"
      ]
    },
    {
      "cell_type": "markdown",
      "metadata": {
        "id": "W3cf-J-Fg8cl"
      },
      "source": [
        "統計検定準1級対応　統計学実践ワークブック\r\n",
        "# 第5章　離散型分布"
      ]
    },
    {
      "cell_type": "markdown",
      "metadata": {
        "id": "0eRy9QiThFLF"
      },
      "source": [
        "## 離散一様分布"
      ]
    },
    {
      "cell_type": "markdown",
      "metadata": {
        "id": "c1B2gy39mYuN"
      },
      "source": [
        "## ベルヌーイ分布"
      ]
    },
    {
      "cell_type": "markdown",
      "metadata": {
        "id": "v1pITla51Mx5"
      },
      "source": [
        "## 二項分布"
      ]
    },
    {
      "cell_type": "markdown",
      "metadata": {
        "id": "-O5gC22x5R2A"
      },
      "source": [
        "## 超幾何分布"
      ]
    },
    {
      "cell_type": "markdown",
      "metadata": {
        "id": "SyeDIQBe5Ttu"
      },
      "source": [
        "## ポワソン分布"
      ]
    },
    {
      "cell_type": "markdown",
      "metadata": {
        "id": "46uP2BuN5Xsv"
      },
      "source": [
        "## 幾何分布"
      ]
    },
    {
      "cell_type": "markdown",
      "metadata": {
        "id": "sQSkTYUL5ZjE"
      },
      "source": [
        "## 負の二項分布"
      ]
    },
    {
      "cell_type": "markdown",
      "metadata": {
        "id": "4QZQKaO95cRm"
      },
      "source": [
        "## 多項分布"
      ]
    },
    {
      "cell_type": "markdown",
      "metadata": {
        "id": "P1xqCUWYovWy"
      },
      "source": [
        "## 例題"
      ]
    },
    {
      "cell_type": "markdown",
      "metadata": {
        "id": "q1ZjQv76xnME"
      },
      "source": [
        "### 問5.1\r\n",
        "ある研究機関では、ウイルスに関する研究を行っている。多くのウイルスを検査し、滅多に現れないウイルス$A$を発見し、その性質を研究するのがこの機関の仕事である。検査するウイルスの全株数を$n$とする。$n$株のウイルスの検査は独自に行われ、いずれの検査においても、ウイルス$A$の発見率は一定値$p$であるとする。  \r\n",
        "(1) $n$株のウイルスのなかにウイルス$A$が少なくとも1株は見つかる確率$\\beta$を求める式を、$p$と$n$を用いて示せ。  \r\n",
        "(2) $p$の値が0に十分近いとき、$\\log (1-p) \\approx -p$ の近似が成り立つ。これを用いて、 $p=1/5000, \\beta =0.98$のときの$n$の値を求めよ。ただし、$\\log (0.02) \\approx -3.9 $であり、$\\log$は自然対数である。"
      ]
    },
    {
      "cell_type": "markdown",
      "metadata": {
        "id": "ZW4YeZUFx9Du"
      },
      "source": [
        "### 答5.1\r\n",
        "(1)\r\n",
        "$n$株のうち、ウイルス$A$がみつかる株の数を$Y$とすると、$Y \\sim Bin(n,p)$である。これより、少なくとも1株はみつかる確率$\\beta$は、下式となる。  \r\n",
        "$$\r\n",
        "\\beta = P(Y \\ge 1) = 1 - P(Y=0) = 1-(1-p)^n\r\n",
        "$$\r\n",
        "\r\n",
        "(2) $(1-p)^n = 1 - \\beta $ より、$ n \\log(1-p) = \\log(1- \\beta) $であるため、\r\n",
        "\r\n",
        "$$\r\n",
        "    n = \\cfrac{\\log (1- \\beta)}{\\log (1-p)} \\approx \\cfrac{\\log(1- \\beta)}{-p} = \\cfrac{\\log(0.02)}{-1/5000} \\approx 3.9 \\times 5000 = 19500\r\n",
        "$$"
      ]
    },
    {
      "cell_type": "code",
      "metadata": {
        "id": "19G0lf9pyzw8"
      },
      "source": [
        ""
      ],
      "execution_count": null,
      "outputs": []
    }
  ]
}