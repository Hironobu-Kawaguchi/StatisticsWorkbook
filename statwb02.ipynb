{
  "nbformat": 4,
  "nbformat_minor": 0,
  "metadata": {
    "colab": {
      "name": "statwb02.ipynb",
      "provenance": [],
      "collapsed_sections": [],
      "toc_visible": true,
      "authorship_tag": "ABX9TyPKp1nAa1QEgZpSRzETIp9B",
      "include_colab_link": true
    },
    "kernelspec": {
      "name": "python3",
      "display_name": "Python 3"
    }
  },
  "cells": [
    {
      "cell_type": "markdown",
      "metadata": {
        "id": "view-in-github",
        "colab_type": "text"
      },
      "source": [
        "<a href=\"https://colab.research.google.com/github/Hironobu-Kawaguchi/StatisticsWorkbook/blob/main/statwb02.ipynb\" target=\"_parent\"><img src=\"https://colab.research.google.com/assets/colab-badge.svg\" alt=\"Open In Colab\"/></a>"
      ]
    },
    {
      "cell_type": "markdown",
      "metadata": {
        "id": "W3cf-J-Fg8cl"
      },
      "source": [
        "統計検定準1級対応　統計学実践ワークブック\r\n",
        "# 第2章　確率分布と母関数"
      ]
    },
    {
      "cell_type": "markdown",
      "metadata": {
        "id": "0eRy9QiThFLF"
      },
      "source": [
        "## 累積分布関数と生存関数\r\n",
        "- 累積分布関数(CDF: cumulative distribution function) $F(x) = P(X \\le x)$\r\n",
        "- 生存関数(survival function) $S(x) = 1 - F(x)$"
      ]
    },
    {
      "cell_type": "markdown",
      "metadata": {
        "id": "c1B2gy39mYuN"
      },
      "source": [
        "## 同時確率密度関数"
      ]
    },
    {
      "cell_type": "markdown",
      "metadata": {
        "id": "v1pITla51Mx5"
      },
      "source": [
        "## 母関数"
      ]
    },
    {
      "cell_type": "markdown",
      "metadata": {
        "id": "P1xqCUWYovWy"
      },
      "source": [
        "## 例題"
      ]
    },
    {
      "cell_type": "markdown",
      "metadata": {
        "id": "q1ZjQv76xnME"
      },
      "source": [
        "### 問2.1\r\n",
        "$xy$-平面の単位正方形 ${(x,y) \\mid 0 \\le x \\le 1, 0 \\le y \\le 1}$ 上の確率密度関数 $f(x,y)$ を  \r\n",
        "$$ f(x,y) = c(x+y) $$\r\n",
        "とおく。  \r\n",
        "(1) 基準化定数$c$を求めよ。  \r\n",
        "(2) $X$の周辺確率密度関数を求めよ。  \r\n",
        "(3) $X$を与えたときの$Y$の条件付確率密度関数を求めよ。  "
      ]
    },
    {
      "cell_type": "markdown",
      "metadata": {
        "id": "ZW4YeZUFx9Du"
      },
      "source": [
        "### 答2.1\r\n",
        "(1) $ \\int_0^1 \\int_0^1 f(x,y) dx dy = 1 $ となるように $c$を定めればよい。"
      ]
    },
    {
      "cell_type": "code",
      "metadata": {
        "id": "19G0lf9pyzw8"
      },
      "source": [
        ""
      ],
      "execution_count": null,
      "outputs": []
    }
  ]
}