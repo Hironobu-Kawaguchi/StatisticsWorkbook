{
  "nbformat": 4,
  "nbformat_minor": 0,
  "metadata": {
    "colab": {
      "name": "statwb14.ipynb",
      "provenance": [],
      "collapsed_sections": [],
      "toc_visible": true,
      "authorship_tag": "ABX9TyO47dJ8ds+94XSBzqAu5zcm",
      "include_colab_link": true
    },
    "kernelspec": {
      "name": "python3",
      "display_name": "Python 3"
    }
  },
  "cells": [
    {
      "cell_type": "markdown",
      "metadata": {
        "id": "view-in-github",
        "colab_type": "text"
      },
      "source": [
        "<a href=\"https://colab.research.google.com/github/Hironobu-Kawaguchi/StatisticsWorkbook/blob/main/statwb14.ipynb\" target=\"_parent\"><img src=\"https://colab.research.google.com/assets/colab-badge.svg\" alt=\"Open In Colab\"/></a>"
      ]
    },
    {
      "cell_type": "markdown",
      "metadata": {
        "id": "W3cf-J-Fg8cl"
      },
      "source": [
        "統計検定準1級対応　統計学実践ワークブック\r\n",
        "# 第14章　マルコフ連鎖"
      ]
    },
    {
      "cell_type": "markdown",
      "metadata": {
        "id": "0eRy9QiThFLF"
      },
      "source": [
        "## マルコフ連鎖\r\n",
        "- マルコフ性(Markov property)\r\n",
        "- マルコフ連鎖(Markov chain)\r\n",
        "- 状態空間(state space)\r\n",
        "- 推移確率(trainsition probability)\r\n",
        "- 斉時的(time homogeneous)"
      ]
    },
    {
      "cell_type": "markdown",
      "metadata": {
        "id": "c1B2gy39mYuN"
      },
      "source": [
        "## 離散的で有限な状態空間"
      ]
    },
    {
      "cell_type": "markdown",
      "metadata": {
        "id": "v1pITla51Mx5"
      },
      "source": [
        "## 推移確率の性質"
      ]
    },
    {
      "cell_type": "markdown",
      "metadata": {
        "id": "efbl95ThgzBz"
      },
      "source": [
        "## 定常分布"
      ]
    },
    {
      "cell_type": "markdown",
      "metadata": {
        "id": "hs2vipKog2Sp"
      },
      "source": [
        "## 有限マルコフ連鎖のパラメータ推定"
      ]
    },
    {
      "cell_type": "markdown",
      "metadata": {
        "id": "P1xqCUWYovWy"
      },
      "source": [
        "## 例題"
      ]
    },
    {
      "cell_type": "markdown",
      "metadata": {
        "id": "q1ZjQv76xnME"
      },
      "source": [
        "### 問14.1\r\n",
        "サイコロの出目によって2つのマスを移動する駒を考える。マス目には1,2と番号が振ってある。駒が1のマスにあるとき、サイコロを投げ6の目が出たらその場に留まり、それ以外の目が出た場合は2のマスに移る。また、2のマスにあるとき、偶数の目が出たらその場に留まり、奇数の目が出たら1のマスに移るとする。時点$n=0,1, \\cdots$における駒の位置を$X_n$、初期状態を$X_0=1$として以下の問に応えよ。  \r\n",
        "(1) マルコフ連鎖 $X = (X_n)_{n=0,1, \\dots}$ の推移確率行列を求めよ。  \r\n",
        "(2) 時点$n$における状態確率ベクトルを$\\pi_n$ とするとき、 $ \\displaystyle \\lim_{n \\to \\infty} \\pi_n$ を求めよ。"
      ]
    },
    {
      "cell_type": "markdown",
      "metadata": {
        "id": "ZW4YeZUFx9Du"
      },
      "source": [
        "### 答14.1"
      ]
    },
    {
      "cell_type": "code",
      "metadata": {
        "id": "19G0lf9pyzw8",
        "colab": {
          "base_uri": "https://localhost:8080/",
          "height": 350
        },
        "outputId": "d513dda7-350d-4141-afc6-122d144d2b42"
      },
      "source": [
        "import numpy as np\r\n",
        "import matplotlib.pyplot as plt\r\n",
        "\r\n",
        "Q = np.array([[1/6, 5/6], [3/6, 3/6]],dtype=np.float)\r\n",
        "print(\"(1) 推移確率行列 \\n\", Q)\r\n",
        "print()\r\n",
        "\r\n",
        "N = 20\r\n",
        "X = np.zeros((N,2),dtype=np.float)\r\n",
        "X[0,0] = 1\r\n",
        "for i in range(1, N):\r\n",
        "    X[i] = np.dot(X[i-1], Q)\r\n",
        "plt.plot(np.arange(N), X[:,0], label='1')\r\n",
        "plt.plot(np.arange(N), X[:,1], label='2')\r\n",
        "plt.legend()\r\n",
        "plt.show()\r\n",
        "print(\"(2) 状態確率ベクトル pi_n\", X[-1,:])"
      ],
      "execution_count": 16,
      "outputs": [
        {
          "output_type": "stream",
          "text": [
            "(1) 推移確率行列 \n",
            " [[0.16666667 0.83333333]\n",
            " [0.5        0.5       ]]\n",
            "\n"
          ],
          "name": "stdout"
        },
        {
          "output_type": "display_data",
          "data": {
            "image/png": "[encoded data removed]",
            "text/plain": [
              "<Figure size 432x288 with 1 Axes>"
            ]
          },
          "metadata": {
            "tags": [],
            "needs_background": "light"
          }
        },
        {
          "output_type": "stream",
          "text": [
            "(2) 状態確率ベクトル pi_n [0.375 0.625]\n"
          ],
          "name": "stdout"
        }
      ]
    },
    {
      "cell_type": "code",
      "metadata": {
        "id": "Bc4Pxd60mYy5"
      },
      "source": [
        ""
      ],
      "execution_count": null,
      "outputs": []
    }
  ]
}