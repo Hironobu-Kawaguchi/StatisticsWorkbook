{
  "nbformat": 4,
  "nbformat_minor": 0,
  "metadata": {
    "colab": {
      "name": "statwb07.ipynb",
      "provenance": [],
      "collapsed_sections": [],
      "toc_visible": true,
      "authorship_tag": "ABX9TyPMtotqZ4svBEeWxVKChqnq",
      "include_colab_link": true
    },
    "kernelspec": {
      "name": "python3",
      "display_name": "Python 3"
    }
  },
  "cells": [
    {
      "cell_type": "markdown",
      "metadata": {
        "id": "view-in-github",
        "colab_type": "text"
      },
      "source": [
        "<a href=\"https://colab.research.google.com/github/Hironobu-Kawaguchi/StatisticsWorkbook/blob/main/statwb07.ipynb\" target=\"_parent\"><img src=\"https://colab.research.google.com/assets/colab-badge.svg\" alt=\"Open In Colab\"/></a>"
      ]
    },
    {
      "cell_type": "markdown",
      "metadata": {
        "id": "W3cf-J-Fg8cl"
      },
      "source": [
        "統計検定準1級対応　統計学実践ワークブック\n",
        "# 第7章　極限定理、漸近定理"
      ]
    },
    {
      "cell_type": "markdown",
      "metadata": {
        "id": "0eRy9QiThFLF"
      },
      "source": [
        "## 確率変数の収束"
      ]
    },
    {
      "cell_type": "markdown",
      "metadata": {
        "id": "c1B2gy39mYuN"
      },
      "source": [
        "## 大数の弱法則"
      ]
    },
    {
      "cell_type": "markdown",
      "metadata": {
        "id": "v1pITla51Mx5"
      },
      "source": [
        "## 確率分布の収束"
      ]
    },
    {
      "cell_type": "markdown",
      "metadata": {
        "id": "-O5gC22x5R2A"
      },
      "source": [
        "## 少数法則"
      ]
    },
    {
      "cell_type": "markdown",
      "metadata": {
        "id": "SyeDIQBe5Ttu"
      },
      "source": [
        "## 中心極限定理"
      ]
    },
    {
      "cell_type": "markdown",
      "metadata": {
        "id": "46uP2BuN5Xsv"
      },
      "source": [
        "## 極値分布"
      ]
    },
    {
      "cell_type": "markdown",
      "metadata": {
        "id": "sQSkTYUL5ZjE"
      },
      "source": [
        "## 分布収束の性質"
      ]
    },
    {
      "cell_type": "markdown",
      "metadata": {
        "id": "4QZQKaO95cRm"
      },
      "source": [
        "## デルタ法"
      ]
    },
    {
      "cell_type": "markdown",
      "metadata": {
        "id": "ZlXXXncFsDvc"
      },
      "source": [
        "## 多次元の分布収束"
      ]
    },
    {
      "cell_type": "markdown",
      "metadata": {
        "id": "P1xqCUWYovWy"
      },
      "source": [
        "## 例題"
      ]
    },
    {
      "cell_type": "markdown",
      "metadata": {
        "id": "q1ZjQv76xnME"
      },
      "source": [
        "### 問7.1\n",
        "普通のサイコロを30回投げたとき、数字の3が10回以上現れる確率の近似値を求めよ。ただし連続修正を行うものとする。"
      ]
    },
    {
      "cell_type": "markdown",
      "metadata": {
        "id": "ZW4YeZUFx9Du"
      },
      "source": [
        "### 答7.1\n"
      ]
    },
    {
      "cell_type": "code",
      "metadata": {
        "id": "19G0lf9pyzw8",
        "colab": {
          "base_uri": "https://localhost:8080/",
          "height": 282
        },
        "outputId": "77129425-8459-4660-a1db-9afaf585ffe3"
      },
      "source": [
        "import numpy as np\n",
        "import matplotlib.pyplot as plt\n",
        "N = 100000\n",
        "M = 30\n",
        "test = np.random.choice(np.arange(6),(N,M))\n",
        "cnt = np.count_nonzero(test==2, axis=1)\n",
        "# print(cnt)\n",
        "# print(np.count_nonzero(cnt>=10)/N)\n",
        "u, counts = np.unique(cnt, return_counts=True)\n",
        "# print(u, counts)\n",
        "print(\"(1)\", \"P(>=10):\", np.count_nonzero(cnt>=10)/N, np.count_nonzero(cnt>=10), '/', N)\n",
        "plt.bar(u, counts)\n",
        "plt.xlim(0,30)\n",
        "plt.show()"
      ],
      "execution_count": 46,
      "outputs": [
        {
          "output_type": "stream",
          "text": [
            "(1) P(>=10): 0.02033 2033 / 100000\n"
          ],
          "name": "stdout"
        },
        {
          "output_type": "display_data",
          "data": {
            "image/png": "[encoded data removed]",
            "text/plain": [
              "<Figure size 432x288 with 1 Axes>"
            ]
          },
          "metadata": {
            "tags": [],
            "needs_background": "light"
          }
        }
      ]
    },
    {
      "cell_type": "code",
      "metadata": {
        "id": "Xw1oJHVxQ7h1"
      },
      "source": [
        ""
      ],
      "execution_count": null,
      "outputs": []
    }
  ]
}